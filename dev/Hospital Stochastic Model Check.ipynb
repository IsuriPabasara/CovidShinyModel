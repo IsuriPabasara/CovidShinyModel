{
 "cells": [
  {
   "cell_type": "code",
   "execution_count": 1,
   "metadata": {},
   "outputs": [],
   "source": [
    "import math\n",
    "\n",
    "import matplotlib\n",
    "import matplotlib.pyplot as plt\n",
    "import numpy as np\n",
    "import pandas as pd"
   ]
  },
  {
   "cell_type": "markdown",
   "metadata": {},
   "source": [
    "The parameters of the [Hospital Stochastic Model Check](https://docs.google.com/document/d/1OvafQlAnXNAWVj8cG5K3UCdybCRf_j7rovAD4b4NHVI/edit?ts=5e77dc5d) are:\n",
    "\n",
    "1. p_g_g: Probability transition from general hospital to general hospital\n",
    "2. p_g_icu: Probability transition from general hospital to ICU\n",
    "3. p_g_d: Probability transition from general hospital to discharge\n",
    "4. p_g_m: Probability transition from general hospital to mortality\n",
    "5. p_icu_g: Probability transition from ICU to general\n",
    "6. p_icu_icu: Probability transition from ICU to ICU\n",
    "7. p_icu_v: Probability transition from ICU to Ventilator\n",
    "8. p_icu_m: Probability transition from ICU to mortality\n",
    "9. p_v_icu: Probability transition from Ventilator to ICU\n",
    "10. p_v_v: Probability transition from Ventilator to Ventilator\n",
    "11. p_v_m: Probability transition from Ventilator to Mortality\n",
    "12. m_g_a: Length of Stay in General Population (I think?)\n",
    "13. m_icu_a: Length of Stay in ICU (But not General Pop) (I think?)\n",
    "14. m_v_a: Length of Stay on Ventilation (But not General Pop/ICU) (I think?)\n",
    "15. h_g_icu: Hitting Probability of going from General to ICU \n",
    "16. h_icu_icu: Hitting Probability of going from ICU to ICU\n",
    "17. h_d_icu: Hitting Probability of going from Discharged to ICU\n",
    "18. h_m_icu: Hitting Probability of going from Mortality to ICU\n",
    "19. h_g_v: Hitting Probability of going from General to Ventilated\n",
    "20. h_icu_v: Hitting Probability of going from ICU to Ventilated\n",
    "21. h_v_v: Hitting Probability of going from Ventilated to Ventilated\n",
    "22. h_g_m: Hitting Probability of going from General to Mortality\n",
    "23. h_icu_m: Hitting Probability of going from ICU to Mortality\n",
    "24. h_v_m: Hitting Probability of going from Ventilated to Mortality"
   ]
  },
  {
   "cell_type": "markdown",
   "metadata": {},
   "source": [
    "## System 1"
   ]
  },
  {
   "cell_type": "markdown",
   "metadata": {},
   "source": [
    "Solve for **p_g_g**, **p_g_icu**, **p_g_m**, **p_g_d**\n",
    "\n",
    "Assumptions\n",
    "- m_g_a\n",
    "- m_icu_a\n",
    "- h_g_icu\n",
    "- h_g_m\n",
    "- h_icu_m\n",
    "\n",
    "(1) m_g_a * **p_g_g** + m_icu_a * **p_g_icu** = m_g_a - 1\n",
    "\n",
    "(2) h_g_icu * **p_g_g** + **p_g_icu** = h_g_icu\n",
    "\n",
    "(3) h_g_m * **p_g_g** + h_icu_m * **p_g_icu** + **p_g_m** = h_g_m\n",
    "\n",
    "(4) **p_g_g** + **p_g_icu** + **p_g_d** + **p_g_m** = 1\n",
    "\n",
    "To solve equation, see: https://docs.scipy.org/doc/numpy/reference/generated/numpy.linalg.solve.html"
   ]
  },
  {
   "cell_type": "code",
   "execution_count": 2,
   "metadata": {},
   "outputs": [],
   "source": [
    "# The first three are taken from default values from the app: https://jpspeng.shinyapps.io/COVIDModel/\n",
    "m_g_a = 11\n",
    "m_icu_a = 8\n",
    "m_v_a = 10\n",
    "h_g_icu = 0.3\n",
    "h_icu_v = 0.64\n",
    "h_g_m = 0.1  # Just Guessing\n",
    "h_icu_m = 0.2 # Just Guessing\n",
    "h_v_m = 0.3 # Just Guessing"
   ]
  },
  {
   "cell_type": "code",
   "execution_count": 3,
   "metadata": {},
   "outputs": [],
   "source": [
    "b = np.array([m_g_a - 1, h_g_icu, h_g_m, 1])\n",
    "a = np.array([\n",
    "    # p_g_g, p_g_icu, p_g_d, p_g_m\n",
    "    [m_g_a, m_icu_a, 0, 0],\n",
    "    [h_g_icu, 1, 0, 0],\n",
    "    [h_g_m, h_icu_m, 0, 1],\n",
    "    [1, 1, 1, 1],\n",
    "])"
   ]
  },
  {
   "cell_type": "code",
   "execution_count": 4,
   "metadata": {},
   "outputs": [],
   "source": [
    "p_g_g, p_g_icu, p_g_d, p_g_m = np.linalg.solve(a, b)"
   ]
  },
  {
   "cell_type": "code",
   "execution_count": 5,
   "metadata": {},
   "outputs": [
    {
     "name": "stdout",
     "output_type": "stream",
     "text": [
      "p_g_g: 0.883720930232558\n",
      "p_g_icu: 0.034883720930232565\n",
      "p_g_d: 0.07674418604651156\n",
      "p_g_m: 0.004651162790697663\n"
     ]
    }
   ],
   "source": [
    "print('p_g_g:', p_g_g)\n",
    "print('p_g_icu:', p_g_icu)\n",
    "print('p_g_d:', p_g_d)\n",
    "print('p_g_m:', p_g_m)"
   ]
  },
  {
   "cell_type": "markdown",
   "metadata": {},
   "source": [
    "## System 2"
   ]
  },
  {
   "cell_type": "markdown",
   "metadata": {},
   "source": [
    "Solve for p_v_icu, p_v_v, p_v_m\n",
    "\n",
    "(5) m_icu_a * **p_v_icu** + m_v_a * **p_v_v** = m_v_a - 1\n",
    "\n",
    "(6) h_icu_m * **p_v_icu** + h_v_m * **p_v_v** = h_v_m\n",
    "\n",
    "(7) **p_v_icu** + **p_v_v** + **p_v_m** = 1"
   ]
  },
  {
   "cell_type": "code",
   "execution_count": 6,
   "metadata": {},
   "outputs": [],
   "source": [
    "b = np.array([m_v_a - 1, h_v_m,  1])\n",
    "a = np.array([\n",
    "    # p_v_icu, p_v_v, p_v_m\n",
    "    [m_icu_a, m_v_a, 0],\n",
    "    [h_icu_m, h_v_m, 0],\n",
    "    [1, 1, 1],\n",
    "])"
   ]
  },
  {
   "cell_type": "code",
   "execution_count": 7,
   "metadata": {},
   "outputs": [],
   "source": [
    "p_v_icu, p_v_v, p_v_m = np.linalg.solve(a, b)"
   ]
  },
  {
   "cell_type": "code",
   "execution_count": 8,
   "metadata": {},
   "outputs": [
    {
     "name": "stdout",
     "output_type": "stream",
     "text": [
      "p_v_icu: -0.75\n",
      "p_v_v: 1.5\n",
      "p_v_m: 0.25\n"
     ]
    }
   ],
   "source": [
    "print('p_v_icu:', p_v_icu)\n",
    "print('p_v_v:', p_v_v)\n",
    "print('p_v_m:', p_v_m)"
   ]
  },
  {
   "cell_type": "markdown",
   "metadata": {},
   "source": [
    "## System 3"
   ]
  },
  {
   "cell_type": "markdown",
   "metadata": {},
   "source": [
    "Solve for: p_icu_g, p_icu_icu, p_icu_v, p_icu_m\n",
    "\n",
    "(8) **p_icu_g** + **p_icu_icu** + **p_icu_v** + **p_icu_m** = 1\n",
    "\n",
    "(9) m_g_a * **p_icu_g** + m_icu_a * **p_icu_icu** + m_v_a * **p_icu_v** = m_icu_a - 1\n",
    "\n",
    "(10) p_g_icu * h_icu_v * **p_icu_g** + h_icu_v * (1 - p_g_g) * **p_icu_icu** + (1 - p_g_g) * **p_icu_v** = (1 - p_g_g) * h_icu_v\n",
    "\n",
    "(11) h_g_m * **p_icu_g** + h_icu_m * **p_icu_icu**  + h_v_m * **p_icu_v** = h_icu_m "
   ]
  },
  {
   "cell_type": "code",
   "execution_count": 10,
   "metadata": {},
   "outputs": [],
   "source": [
    "b = np.array([1, m_icu_a - 1,  (1 - p_g_g) * h_icu_v, h_icu_m])\n",
    "a = np.array([\n",
    "    # p_icu_g, p_icu_icu, p_icu_v, p_icu_m\n",
    "    [1, 1, 1, 1],\n",
    "    [m_g_a, m_icu_a, m_v_a, 0],\n",
    "    [p_g_icu * h_icu_v, h_icu_v * (1 - p_g_g), (1 - p_g_g), 0],\n",
    "    [h_g_m, h_icu_m, h_v_m, 0],\n",
    "])"
   ]
  },
  {
   "cell_type": "code",
   "execution_count": 11,
   "metadata": {},
   "outputs": [],
   "source": [
    "p_icu_g, p_icu_icu, p_icu_v, p_icu_m = np.linalg.solve(a, b)"
   ]
  },
  {
   "cell_type": "code",
   "execution_count": 12,
   "metadata": {},
   "outputs": [
    {
     "name": "stdout",
     "output_type": "stream",
     "text": [
      "p_icu_g: -1.666666666666749\n",
      "p_icu_icu: 9.833333333333806\n",
      "p_icu_v: -5.333333333333622\n",
      "p_icu_m: -1.8333333333334365\n"
     ]
    }
   ],
   "source": [
    "print('p_icu_g:', p_icu_g)\n",
    "print('p_icu_icu:', p_icu_icu)\n",
    "print('p_icu_v:', p_icu_v)\n",
    "print('p_icu_m:', p_icu_m)"
   ]
  },
  {
   "cell_type": "code",
   "execution_count": null,
   "metadata": {},
   "outputs": [],
   "source": []
  }
 ],
 "metadata": {
  "kernelspec": {
   "display_name": "Python 3",
   "language": "python",
   "name": "python3"
  },
  "language_info": {
   "codemirror_mode": {
    "name": "ipython",
    "version": 3
   },
   "file_extension": ".py",
   "mimetype": "text/x-python",
   "name": "python",
   "nbconvert_exporter": "python",
   "pygments_lexer": "ipython3",
   "version": "3.7.4"
  }
 },
 "nbformat": 4,
 "nbformat_minor": 4
}
